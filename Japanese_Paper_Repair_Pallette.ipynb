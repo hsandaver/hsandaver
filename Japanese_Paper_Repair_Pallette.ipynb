{
  "nbformat": 4,
  "nbformat_minor": 0,
  "metadata": {
    "colab": {
      "private_outputs": true,
      "provenance": [],
      "authorship_tag": "ABX9TyPKukrRrCbPGU2oucJUHJPQ",
      "include_colab_link": true
    },
    "kernelspec": {
      "name": "python3",
      "display_name": "Python 3"
    },
    "language_info": {
      "name": "python"
    }
  },
  "cells": [
    {
      "cell_type": "markdown",
      "metadata": {
        "id": "view-in-github",
        "colab_type": "text"
      },
      "source": [
        "<a href=\"https://colab.research.google.com/github/hsandaver/hsandaver/blob/main/Japanese_Paper_Repair_Pallette.ipynb\" target=\"_parent\"><img src=\"https://colab.research.google.com/assets/colab-badge.svg\" alt=\"Open In Colab\"/></a>"
      ]
    },
    {
      "cell_type": "code",
      "execution_count": null,
      "metadata": {
        "id": "DTvY1EpbmL8O"
      },
      "outputs": [],
      "source": [
        "!pip install numpy==1.22\n",
        "!pip install colormath"
      ]
    },
    {
      "cell_type": "code",
      "source": [
        "import numpy as np\n",
        "import colormath\n",
        "\n",
        "from colormath.color_objects import LabColor\n",
        "from colormath.color_diff import delta_e_cie1976\n",
        "\n",
        "#Reference Colours.\n",
        "\n",
        "Bistre = LabColor(lab_l=79.80798663655095, lab_a=2.9342443777221616, lab_b=15.630382769444019)\n",
        "DarkCadmiumYellow = LabColor(lab_l=84.93382346354791, lab_a=-1.4300679590588117, lab_b=31.281387573040664)\n",
        "NaplesYellow = LabColor(lab_l=84.4521714553435, lab_a=-2.531784472035614, lab_b=18.470138869119257)\n",
        "LightChromeYellow = LabColor(lab_l=84.07556459821917, lab_a=-2.8775165885019383, lab_b=21.10323389370885)\n",
        "Nougat = LabColor(lab_l=79.66117821361274, lab_a=2.565053298080211, lab_b=12.710500688612413)\n",
        "DarkNaplesOchre = LabColor(lab_l=81.81380257385514, lab_a=-1.7331236491883728, lab_b=21.618891008041153)\n",
        "Ivory = LabColor(lab_l=83.18026109626092, lab_a=0.9258774049446528, lab_b=8.685504314759829)\n",
        "WalnutBrown = LabColor(lab_l=77.66146332891475, lab_a=3.5835586799971564, lab_b=10.891932965711892)\n",
        "LightYellowOchre = LabColor(lab_l=83.37249369286693, lab_a=-0.4465669493360913, lab_b=14.291696708855772)\n",
        "Cream = LabColor(lab_l=85.23397385249231, lab_a=0.272905772540355, lab_b=10.622473604533855)\n",
        "DarkSepia = LabColor(lab_l=77.80063874098359, lab_a=0.9967749073408472, lab_b=9.95377724689861)\n",
        "BrownOchre = LabColor(lab_l=83.32092090340807, lab_a=0.8744056560346936, lab_b=15.314309488597377)\n",
        "White = LabColor(lab_l=84.84275924740757, lab_a=0.23638869528114226, lab_b=9.513400457215916)\n",
        "DarkYellowChrome = LabColor(lab_l=82.78104363300092, lab_a=-0.6083363705896017, lab_b=21.961537684341657)\n",
        "RawUmber = LabColor(lab_l=82.70964649868547, lab_a=0.9835187810628421, lab_b=19.236811161151014)\n",
        "WarmGreyII = LabColor(lab_l=82.48591689751228, lab_a=1.0926571556724718, lab_b=8.202327582447854)\n",
        "Black = LabColor(lab_l=68.83661955978214, lab_a=0.7651083388620639, lab_b=7.223607202048132)\n",
        "GreenGold = LabColor(lab_l=83.81706951277837, lab_a=-1.3143749489168965, lab_b=27.6351550733583)\n",
        "VenetianRed = LabColor(lab_l=80.87605773676864, lab_a=4.856210005648343, lab_b=11.83786502018933)\n",
        "Sanguine = LabColor(lab_l=81.08368468351271, lab_a=4.027487541311936, lab_b=13.200768413760255)\n",
        "Copper = LabColor(lab_l=80.82567926821478, lab_a=1.6624620349581787, lab_b=8.99888818592689)\n",
        "BurntOchre = LabColor(lab_l=81.928930324142, lab_a=1.1889332773410421, lab_b=14.369323809944934)\n",
        "Terracotta = LabColor(lab_l=83.3470275642883, lab_a=1.2650019035566618, lab_b=12.68768811067913)\n",
        "ColdGreyII = LabColor(lab_l=82.8215590464856, lab_a=0.9277283472554076, lab_b=8.69367529003451)\n",
        "ColdGreyI = LabColor(lab_l=83.37840608055369, lab_a=0.20886082759818958, lab_b=8.426626987114405)\n",
        "BurntSiena = LabColor(lab_l=76.9878503223596, lab_a=6.258539693745124, lab_b=19.204582208910104)\n",
        "SekishuMare = LabColor(lab_l=83.41200168418038, lab_a=0.24157366074883946, lab_b=9.548571304298537)\n",
        "BistreBrownOchre = LabColor(lab_l=71.46012768081498, lab_a=5.946146103831762, lab_b=23.288747035356707)\n",
        "RawUmberWarmGreyIII = LabColor(lab_l=76.93353700113471, lab_a=1.0765397561191548, lab_b=19.54199061755355)\n",
        "SanguineWarmGreyII = LabColor(lab_l=74.27310260812726, lab_a=11.85860689632956, lab_b=19.80100305748835)\n",
        "BrownOchreWarmGreyII = LabColor(lab_l=73.44703775263007, lab_a=4.404809265865728, lab_b=29.267444250310493)\n",
        "TerracottaNougat = LabColor(lab_l=70.33558081760263, lab_a=8.879065008499332, lab_b=26.15292696880205)\n",
        "RawUmberWarmGreyII = LabColor(lab_l=70.23721996746701, lab_a=4.97597532106675, lab_b=29.697790801540602)\n",
        "BrownOchreTerracotta = LabColor(lab_l=63.78515016305164, lab_a=13.805033309882198, lab_b=36.86255420941973)\n",
        "WalnutBrownCream = LabColor(lab_l=78.21254846360469, lab_a=2.5850950399384787, lab_b=12.762033254271433)\n",
        "WarmGreyIINougat = LabColor(lab_l=70.24260199899491, lab_a=4.583566059984223, lab_b=15.470646344644102)\n",
        "TerracottaWarmGreyII = LabColor(lab_l=77.210909117687, lab_a=5.0814335687694445, lab_b=25.42094244476527)\n",
        "BurntOchreNougat = LabColor(lab_l=73.78911710532556, lab_a=4.918696025389691, lab_b=21.657369780733738)\n",
        "LightYellowOchreCream = LabColor(lab_l=82.9292840730939, lab_a=-1.4633386523182912, lab_b=20.558788772596557)\n",
        "RawUmberNougat = LabColor(lab_l=63.11693078674328, lab_a=8.595807787998123, lab_b=28.20274737530699)\n",
        "BrownOchreRawUmber = LabColor(lab_l=60.802082793176, lab_a=11.252421925637911, lab_b=28.20274737530699)\n",
        "BistreRawUmber = LabColor(lab_l=71.61816722094461, lab_a=6.298650800630412, lab_b=27.324334340448964)\n",
        "NougatSanguine = LabColor(lab_l=74.6938156048393, lab_a=9.08843537168974, lab_b=18.697483789232127)\n",
        "BrownOchreSanguine = LabColor(lab_l=60.883291765821966, lab_a=19.098040483026658, lab_b=32.663330849317795)\n",
        "BurntSienaNougatHeavy = LabColor(lab_l=58.80764972490451, lab_a=10.39254476455559, lab_b=21.71722163299965)\n",
        "NougatCream = LabColor(lab_l=77.33758363193564, lab_a=3.213626742011755, lab_b=16.3850870299439)\n",
        "BistreNougat = LabColor(lab_l=64.58357145362187, lab_a=9.976120673409138, lab_b=27.509526098662327)\n",
        "BistreSanguine = LabColor(lab_l=75.26374011749911, lab_a=9.71595959981525, lab_b=21.16288620471687)\n",
        "BurntOchreRawUmber = LabColor(lab_l=70.47216829097401, lab_a=8.800670281947253, lab_b=34.951287484688606)\n",
        "BistreBurntOchre = LabColor(lab_l=70.2629372831188, lab_a=9.852225414597127, lab_b=29.879142649047008)\n",
        "SanguineRawUmber = LabColor(lab_l=75.27251983880667, lab_a=7.607109282958435, lab_b=28.138717355106245)\n",
        "BisterColdGreyI = LabColor(lab_l=81.10933551892344, lab_a=0.9176782079427515, lab_b=12.63199917469191)\n",
        "BrownOchreNougat = LabColor(lab_l=67.68760863005815, lab_a=7.157849195118249, lab_b=26.7836881171591661)\n",
        "BrownOchreDarkSepia = LabColor(lab_l=60.085431116858715, lab_a=4.3599478790269375, lab_b=21.648375925797826)\n",
        "TerracottaRawUmber = LabColor(lab_l=65.26420908670684, lab_a=16.661387130348647, lab_b=35.184279432847035)\n",
        "BistreTerracotta = LabColor(lab_l=72.1188368073166, lab_a=7.940914380660525, lab_b=35.184279432847035)\n",
        "BrownOchreColdGrayII = LabColor(lab_l=79.61898372408815, lab_a=0.18002991675608593, lab_b=17.985478769124462)\n",
        "BurntOchreTerracotta = LabColor(lab_l=68.72789316682922, lab_a=12.58352256517492, lab_b=32.71885821081328)\n",
        "BrownOchreColdGreyI = LabColor(lab_l=74.14395058824581, lab_a=4.141722427781325, lab_b=30.221653648458325)\n",
        "NougatIvory = LabColor(lab_l=78.80949428902726, lab_a=3.5453462649080447, lab_b=13.653357548948609)\n",
        "BurntOchreBrownOchre = LabColor(lab_l=63.67502014031517, lab_a=13.38325626162301, lab_b=36.702185960668366)\n",
        "BurntOchreSanguine = LabColor(lab_l=68.02626917366291, lab_a=18.69476443282403, lab_b=31.965932291531463)\n",
        "BistreCream = LabColor(lab_l=78.96013740974037, lab_a=2.0864956125408174, lab_b=18.696707268398114)\n",
        "TerracottaSanguine = LabColor(lab_l=75.34016874494702, lab_a=9.9792547411513, lab_b=21.821708270525697)\n",
        "RawUmberLightYellowOchreDarkSepiaEdges = LabColor(lab_l=78.5955280596892, lab_a=1.637036869324482, lab_b=23.53548428368326)\n",
        "BistreWarmGreyIIBurntOchre = LabColor(lab_l=78.5955280596892, lab_a=1.637036869324482, lab_b=23.53548428368326)\n",
        "BistreBrownOchreWarmGreyII = LabColor(lab_l=66.78923171635067, lab_a=9.37613868608328, lab_b=31.600784034731987)\n",
        "RawUmberCopperIvoryHumidified = LabColor(lab_l=75.91702295966881, lab_a=1.1860505061921933, lab_b=22.416483868111637)\n",
        "BistreCopperIvory = LabColor(lab_l=78.08825723877402, lab_a=3.149891993279641, lab_b=18.007326427853656)\n",
        "BistreWarmGreyIIWhite = LabColor(lab_l=77.62707910084748, lab_a=4.3102790620989095, lab_b=18.452332474598055)\n",
        "WalnutBrownNougatBistre = LabColor(lab_l=67.86955322330851, lab_a=7.302074301890782, lab_b=15.437578636211736)\n",
        "SanguineRawUmberTerracotta = LabColor(lab_l=61.59442566385097, lab_a=21.58875274330585, lab_b=33.70807753666585)\n",
        "WalnutBrownBistreTerracottaWhite = LabColor(lab_l=78.21451458371239, lab_a=4.012176961401492, lab_b=14.964502310195016)\n",
        "IvoryCopperBurntOchreBrownOchre = LabColor(lab_l=80.80631995549936, lab_a=0.900899268089117, lab_b=15.41715239492547)\n",
        "DarkSepiaBistreWalnutBrownNougatColdGrey = LabColor(lab_l=66.86613060236357, lab_a=4.721282560222029, lab_b=13.925002093821238)\n",
        "Tea = LabColor(lab_l=73.33907000481987, lab_a=4.819835443118203, lab_b=18.832101014056747)\n",
        "\n",
        "#Colour to be compared to the reference\n",
        "\n",
        "color2 = LabColor(lab_l=85.46065293569525, lab_a=2.471333267105358, lab_b=15.260626662120647)\n",
        "\n",
        "#This is the delta E value as a float.\n",
        "\n",
        "Bistre𝚫 = delta_e_cie1976(Bistre, color2)\n",
        "DarkCadmiumYellow𝚫 = delta_e_cie1976(DarkCadmiumYellow, color2)\n",
        "NaplesYellow𝚫 = delta_e_cie1976(NaplesYellow, color2)\n",
        "LightChromeYellow𝚫 = delta_e_cie1976(LightChromeYellow, color2)\n",
        "Nougat𝚫 = delta_e_cie1976(Nougat, color2)\n",
        "DarkNaplesOchre𝚫 = delta_e_cie1976(DarkNaplesOchre, color2)\n",
        "Ivory𝚫 = delta_e_cie1976(Ivory, color2)\n",
        "WalnutBrown𝚫 = delta_e_cie1976(WalnutBrown, color2)\n",
        "LightYellowOchre𝚫 = delta_e_cie1976(LightYellowOchre, color2)\n",
        "Cream𝚫 = delta_e_cie1976(Cream, color2)\n",
        "DarkSepia𝚫 = delta_e_cie1976(DarkSepia, color2)\n",
        "BrownOchre𝚫 = delta_e_cie1976(BrownOchre, color2)\n",
        "White𝚫 = delta_e_cie1976(White, color2)\n",
        "DarkYellowChrome𝚫 = delta_e_cie1976(DarkYellowChrome, color2)\n",
        "RawUmber𝚫 = delta_e_cie1976(RawUmber, color2)\n",
        "WarmGreyII𝚫 = delta_e_cie1976(WarmGreyII, color2)\n",
        "Black𝚫 = delta_e_cie1976(Black, color2)\n",
        "GreenGold𝚫 = delta_e_cie1976(GreenGold, color2)\n",
        "VenetianRed𝚫 = delta_e_cie1976(VenetianRed, color2)\n",
        "Sanguine𝚫 = delta_e_cie1976(Sanguine, color2)\n",
        "Copper𝚫 = delta_e_cie1976(Copper, color2)\n",
        "BurntOchre𝚫 = delta_e_cie1976(BurntOchre, color2)\n",
        "Terracotta𝚫 = delta_e_cie1976(Terracotta, color2)\n",
        "ColdGreyII𝚫 = delta_e_cie1976(ColdGreyII, color2)\n",
        "ColdGreyI𝚫 = delta_e_cie1976(ColdGreyI, color2)\n",
        "BurntSiena𝚫 = delta_e_cie1976(BurntSiena, color2)\n",
        "SekishuMare𝚫 = delta_e_cie1976(SekishuMare, color2)\n",
        "BistreBrownOchre𝚫 = delta_e_cie1976(BistreBrownOchre, color2)\n",
        "RawUmberWarmGreyIII𝚫 = delta_e_cie1976(RawUmberWarmGreyIII, color2)\n",
        "SanguineWarmGreyII𝚫 = delta_e_cie1976(SanguineWarmGreyII, color2)\n",
        "BrownOchreWarmGreyII𝚫 = delta_e_cie1976(BrownOchreWarmGreyII, color2)\n",
        "TerracottaNougat𝚫 = delta_e_cie1976(TerracottaNougat, color2)\n",
        "RawUmberWarmGreyII𝚫 = delta_e_cie1976(RawUmberWarmGreyII, color2)\n",
        "BrownOchreTerracotta𝚫 = delta_e_cie1976(BrownOchreTerracotta, color2)\n",
        "WalnutBrownCream𝚫 = delta_e_cie1976(WalnutBrownCream, color2)\n",
        "WarmGreyIINougat𝚫 = delta_e_cie1976(WarmGreyIINougat, color2)\n",
        "TerracottaWarmGreyII𝚫 = delta_e_cie1976(TerracottaWarmGreyII, color2)\n",
        "BurntOchreNougat𝚫 = delta_e_cie1976(BurntOchreNougat, color2)\n",
        "LightYellowOchreCream𝚫 = delta_e_cie1976(LightYellowOchreCream, color2)\n",
        "RawUmberNougat𝚫 = delta_e_cie1976(RawUmberNougat, color2)\n",
        "BrownOchreRawUmber𝚫 = delta_e_cie1976(BrownOchreRawUmber, color2)\n",
        "BistreBurntOchre𝚫 = delta_e_cie1976(BistreBurntOchre, color2)\n",
        "SanguineRawUmber𝚫 = delta_e_cie1976(SanguineRawUmber, color2)\n",
        "BisterColdGreyI𝚫 = delta_e_cie1976(BisterColdGreyI, color2)\n",
        "BrownOchreNougat𝚫 = delta_e_cie1976(BrownOchreNougat, color2)\n",
        "BrownOchreDarkSepia𝚫 = delta_e_cie1976(BrownOchreDarkSepia, color2)\n",
        "TerracottaRawUmber𝚫 = delta_e_cie1976(TerracottaRawUmber, color2)\n",
        "BistreTerracotta𝚫 = delta_e_cie1976(BistreTerracotta, color2)\n",
        "BrownOchreColdGrayII𝚫 = delta_e_cie1976(BrownOchreColdGrayII, color2)\n",
        "BurntOchreTerracotta𝚫 = delta_e_cie1976(BurntOchreTerracotta, color2)\n",
        "BrownOchreColdGreyI𝚫 = delta_e_cie1976(BrownOchreColdGreyI, color2)\n",
        "NougatIvory𝚫 = delta_e_cie1976(NougatIvory, color2)\n",
        "BurntOchreBrownOchre𝚫 = delta_e_cie1976(BurntOchreBrownOchre, color2)\n",
        "BurntOchreSanguine𝚫 = delta_e_cie1976(BurntOchreSanguine, color2)\n",
        "BistreCream𝚫 = delta_e_cie1976(BistreCream, color2)\n",
        "TerracottaSanguine𝚫 = delta_e_cie1976(TerracottaSanguine, color2)\n",
        "RawUmberLightYellowOchreDarkSepiaEdges𝚫 = delta_e_cie1976(RawUmberLightYellowOchreDarkSepiaEdges, color2)\n",
        "BistreWarmGreyIIBurntOchre𝚫 = delta_e_cie1976(BistreWarmGreyIIBurntOchre, color2)\n",
        "BistreBrownOchreWarmGreyII𝚫 = delta_e_cie1976(BistreBrownOchreWarmGreyII, color2)\n",
        "RawUmberCopperIvoryHumidified𝚫 = delta_e_cie1976(RawUmberCopperIvoryHumidified, color2)\n",
        "BistreCopperIvory𝚫 = delta_e_cie1976(BistreCopperIvory, color2)\n",
        "BistreWarmGreyIIWhite𝚫 = delta_e_cie1976(BistreWarmGreyIIWhite, color2)\n",
        "WalnutBrownNougatBistre𝚫 = delta_e_cie1976(WalnutBrownNougatBistre, color2)\n",
        "SanguineRawUmberTerracotta𝚫 = delta_e_cie1976(SanguineRawUmberTerracotta, color2)\n",
        "WalnutBrownBistreTerracottaWhite𝚫 = delta_e_cie1976(WalnutBrownBistreTerracottaWhite, color2)\n",
        "IvoryCopperBurntOchreBrownOchre𝚫 = delta_e_cie1976(IvoryCopperBurntOchreBrownOchre, color2)\n",
        "DarkSepiaBistreWalnutBrownNougatColdGrey𝚫 = delta_e_cie1976(DarkSepiaBistreWalnutBrownNougatColdGrey, color2)\n",
        "Tea𝚫 = delta_e_cie1976(Tea, color2)\n",
        "\n",
        "#Find lowest delta-e\n",
        "\n",
        "colours = [\"Bistre𝚫\", \"DarkCadmiumYellow𝚫\", \"NaplesYellow𝚫\", \"LightChromeYellow𝚫\", \"Nougat𝚫\", \"DarkNaplesOchre𝚫\", \"Ivory𝚫\", \"WalnutBrown𝚫\", \"LightYellowOchre𝚫\", \"Cream𝚫\", \"DarkSepia𝚫\", \"BrownOchre𝚫\",\n",
        "           \"White𝚫\", \"DarkYellowChrome𝚫\", \"RawUmber𝚫\", \"WarmGreyII𝚫\", \"BurntSiena𝚫\", \"SekishuMare𝚫\", \"BistreBrownOchre𝚫\", \"RawUmberWarmGreyIII𝚫\", \"SanguineWarmGreyII𝚫\", \"BrownOchreWarmGreyII𝚫\",\n",
        "           \"TerracottaNougat𝚫\", \"RawUmberWarmGreyII𝚫\", \"BrownOchreTerracotta𝚫\", \"TerracottaNougat𝚫\", \"RawUmberWarmGreyII𝚫\", \"SanguineWarmGreyII𝚫\", \"BrownOchreWarmGreyII𝚫\", \"TerracottaNougat𝚫\",\n",
        "           \"RawUmberWarmGreyII𝚫\", \"SanguineWarmGreyII𝚫\", \"BrownOchreTerracotta𝚫\", \"WalnutBrownCream𝚫\", \"WarmGreyIINougat𝚫\", \"TerracottaWarmGreyII𝚫\", \"BurntOchreNougat𝚫\", \"LightYellowOchreCream𝚫\",\n",
        "           \"RawUmberNougat\", \"BrownOchreRawUmber\", \"BistreBurntOchre𝚫\", \"SanguineRawUmber𝚫\", \"BisterColdGreyI𝚫\", \"BrownOchreNougat𝚫\", \"BrownOchreDarkSepia𝚫\", \"TerracottaRawUmber𝚫\", \"BistreTerracotta𝚫\",\n",
        "           \"BrownOchreColdGrayII𝚫\", \"NougatIvory𝚫\", \"BurntOchreBrownOchre𝚫\", \"BurntOchreSanguine𝚫\", \"BistreCream𝚫\", \"TerracottaSanguine𝚫\", \"RawUmberLightYellowOchreDarkSepiaEdges𝚫\",\n",
        "           \"BistreWarmGreyIIBurntOchre𝚫\", \"BistreBrownOchreWarmGreyII𝚫\", \"RawUmberCopperIvoryHumidified𝚫\", \"BistreCopperIvory𝚫\", \"BistreWarmGreyIIWhite𝚫\", \"WalnutBrownNougatBistre𝚫\", \"SanguineRawUmberTerracotta𝚫\",\n",
        "           \"WalnutBrownBistreTerracottaWhite𝚫\", \"IvoryCopperBurntOchreBrownOchre𝚫\", \"DarkSepiaBistreWalnutBrownNougatColdGrey𝚫\", \"Tea𝚫\"]"
      ],
      "metadata": {
        "id": "aLgTOPA_mg3w"
      },
      "execution_count": null,
      "outputs": []
    },
    {
      "cell_type": "code",
      "source": [
        "min_value = min(colours)"
      ],
      "metadata": {
        "id": "jlTd8KZTrFC-"
      },
      "execution_count": null,
      "outputs": []
    },
    {
      "cell_type": "code",
      "source": [
        "min_index = colours.index(min_value)"
      ],
      "metadata": {
        "id": "zWYZSsfhTT1d"
      },
      "execution_count": null,
      "outputs": []
    },
    {
      "cell_type": "code",
      "source": [
        "min_color_name = colours[min_index]"
      ],
      "metadata": {
        "id": "-XDVfTmmTbKA"
      },
      "execution_count": null,
      "outputs": []
    },
    {
      "cell_type": "code",
      "source": [
        "print(f\"The colour with the minimum value is: {min_color_name}\")"
      ],
      "metadata": {
        "id": "JHBy4tTrTet4"
      },
      "execution_count": null,
      "outputs": []
    }
  ]
}