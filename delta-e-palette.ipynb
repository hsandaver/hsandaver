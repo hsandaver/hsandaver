{
  "nbformat": 4,
  "nbformat_minor": 0,
  "metadata": {
    "colab": {
      "private_outputs": true,
      "provenance": [],
      "authorship_tag": "ABX9TyNywtJWeqRB8OHe7sRs07oq",
      "include_colab_link": true
    },
    "kernelspec": {
      "name": "python3",
      "display_name": "Python 3"
    },
    "language_info": {
      "name": "python"
    }
  },
  "cells": [
    {
      "cell_type": "markdown",
      "metadata": {
        "id": "view-in-github",
        "colab_type": "text"
      },
      "source": [
        "<a href=\"https://colab.research.google.com/github/hsandaver/hsandaver/blob/main/delta-e-palette.ipynb\" target=\"_parent\"><img src=\"https://colab.research.google.com/assets/colab-badge.svg\" alt=\"Open In Colab\"/></a>"
      ]
    },
    {
      "cell_type": "code",
      "execution_count": null,
      "metadata": {
        "id": "DTvY1EpbmL8O"
      },
      "outputs": [],
      "source": [
        "!pip install colormath"
      ]
    },
    {
      "cell_type": "code",
      "source": [
        "import numpy as np\n",
        "import colormath\n",
        "\n",
        "from colormath.color_objects import LabColor\n",
        "from colormath.color_diff import delta_e_cie1976\n",
        "\n",
        "#Reference Colour.\n",
        "\n",
        "color1 = LabColor(lab_l=0.9, lab_a=16.3, lab_b=2.22)\n",
        "\n",
        "#Colour to be compared to the reference\n",
        "\n",
        "color2 = LabColor(lab_l=0.7, lab_a=14.2, lab_b=1.80)\n",
        "\n",
        "#This is the delta E value as a float.\n",
        "\n",
        "delta_e = delta_e_cie1976(color1, color2)\n",
        "\n",
        "delta_e"
      ],
      "metadata": {
        "id": "aLgTOPA_mg3w"
      },
      "execution_count": null,
      "outputs": []
    }
  ]
}