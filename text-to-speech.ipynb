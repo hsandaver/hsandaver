{
  "nbformat": 4,
  "nbformat_minor": 0,
  "metadata": {
    "colab": {
      "private_outputs": true,
      "provenance": [],
      "gpuType": "T4",
      "authorship_tag": "ABX9TyN+ECGnuZ7rW1UUCwbWBaL2",
      "include_colab_link": true
    },
    "kernelspec": {
      "name": "python3",
      "display_name": "Python 3"
    },
    "language_info": {
      "name": "python"
    },
    "accelerator": "GPU"
  },
  "cells": [
    {
      "cell_type": "markdown",
      "metadata": {
        "id": "view-in-github",
        "colab_type": "text"
      },
      "source": [
        "<a href=\"https://colab.research.google.com/github/hsandaver/hsandaver/blob/main/text-to-speech.ipynb\" target=\"_parent\"><img src=\"https://colab.research.google.com/assets/colab-badge.svg\" alt=\"Open In Colab\"/></a>"
      ]
    },
    {
      "cell_type": "code",
      "execution_count": null,
      "metadata": {
        "id": "g2fqsHnuroqE"
      },
      "outputs": [],
      "source": [
        "# ----------------------- #\n",
        "#       INSTALLATION      #\n",
        "# ----------------------- #\n",
        "\n",
        "# Upgrade pip to the latest version\n",
        "!pip install --upgrade pip\n",
        "\n",
        "# Install gTTS for text-to-speech\n",
        "!pip install gTTS\n",
        "\n",
        "# Install pydub for audio processing\n",
        "!pip install pydub\n",
        "\n",
        "# Install ipywidgets for interactive widgets\n",
        "!pip install ipywidgets\n",
        "\n",
        "# Install ffmpeg for audio conversion (required by pydub)\n",
        "!apt-get install ffmpeg -y\n",
        "\n",
        "# ----------------------- #\n",
        "#       IMPORTS           #\n",
        "# ----------------------- #\n",
        "\n",
        "import os\n",
        "from gtts import gTTS\n",
        "from pydub import AudioSegment\n",
        "from google.colab import files\n",
        "import ipywidgets as widgets\n",
        "from IPython.display import display, Audio\n",
        "\n",
        "# ----------------------- #\n",
        "#     CREATE WIDGETS      #\n",
        "# ----------------------- #\n",
        "\n",
        "# Text input widget\n",
        "text_input = widgets.Textarea(\n",
        "    value='Hello! This is a simple text-to-speech conversion using gTTS in Google Colab.',\n",
        "    placeholder='Type your text here...',\n",
        "    description='Input Text:',\n",
        "    disabled=False,\n",
        "    layout=widgets.Layout(width='100%', height='150px')\n",
        ")\n",
        "\n",
        "# Generate Speech button\n",
        "button = widgets.Button(\n",
        "    description=\"Generate Speech\",\n",
        "    button_style='success',\n",
        "    tooltip='Click to generate speech from the input text',\n",
        "    icon='volume-up'\n",
        ")\n",
        "\n",
        "# Output widget for download link and messages\n",
        "output = widgets.Output()\n",
        "\n",
        "# Display the widgets\n",
        "display(text_input, button, output)\n",
        "\n",
        "# ----------------------- #\n",
        "#    BUTTON CALLBACK      #\n",
        "# ----------------------- #\n",
        "\n",
        "def on_button_clicked(b):\n",
        "    with output:\n",
        "        output.clear_output()  # Clear previous outputs\n",
        "        text = text_input.value.strip()\n",
        "        if not text:\n",
        "            print(\"❌ Please enter some text to convert to speech.\")\n",
        "            return\n",
        "        try:\n",
        "            print(\"🔄 Generating speech... Please wait.\")\n",
        "            # Initialize gTTS\n",
        "            tts = gTTS(text=text, lang='en')\n",
        "            # Save the audio file\n",
        "            tts.save(\"output.mp3\")\n",
        "            print(\"✅ Speech generated successfully!\")\n",
        "            # Provide download link\n",
        "            files.download(\"output.mp3\")\n",
        "            # Optionally, display the audio player\n",
        "            display(Audio(\"output.mp3\", autoplay=True))\n",
        "        except Exception as e:\n",
        "            print(f\"❌ An error occurred: {e}\")\n",
        "\n",
        "# Attach the callback to the button\n",
        "button.on_click(on_button_clicked)"
      ]
    }
  ]
}