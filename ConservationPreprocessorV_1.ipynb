{
  "nbformat": 4,
  "nbformat_minor": 0,
  "metadata": {
    "colab": {
      "private_outputs": true,
      "provenance": [],
      "authorship_tag": "ABX9TyMKON90fqrTH65THFVST+zz",
      "include_colab_link": true
    },
    "kernelspec": {
      "name": "python3",
      "display_name": "Python 3"
    },
    "language_info": {
      "name": "python"
    }
  },
  "cells": [
    {
      "cell_type": "markdown",
      "metadata": {
        "id": "view-in-github",
        "colab_type": "text"
      },
      "source": [
        "<a href=\"https://colab.research.google.com/github/hsandaver/hsandaver/blob/main/ConservationPreprocessorV_1.ipynb\" target=\"_parent\"><img src=\"https://colab.research.google.com/assets/colab-badge.svg\" alt=\"Open In Colab\"/></a>"
      ]
    },
    {
      "cell_type": "code",
      "execution_count": null,
      "metadata": {
        "id": "NQr4_JM5AS1Z"
      },
      "outputs": [],
      "source": [
        "# Install necessary libraries\n",
        "!pip install opencv-python-headless pillow ipywidgets matplotlib\n",
        "\n",
        "# Import required libraries\n",
        "from google.colab import files\n",
        "from PIL import Image\n",
        "import cv2\n",
        "import numpy as np\n",
        "import matplotlib.pyplot as plt\n",
        "from ipywidgets import interact, widgets\n",
        "\n",
        "# Step 1: Upload an image\n",
        "uploaded = files.upload()\n",
        "\n",
        "# Step 2: Load image using PIL\n",
        "for fn in uploaded.keys():\n",
        "    img = Image.open(fn)\n",
        "\n",
        "# Step 3: Convert image to grayscale\n",
        "img_gray = img.convert('L')\n",
        "\n",
        "# Step 4: Resize image while maintaining aspect ratio\n",
        "max_size = 800\n",
        "img_width, img_height = img_gray.size\n",
        "aspect_ratio = img_width / img_height\n",
        "\n",
        "if img_width > img_height:\n",
        "    new_width = max_size\n",
        "    new_height = int(max_size / aspect_ratio)\n",
        "else:\n",
        "    new_height = max_size\n",
        "    new_width = int(max_size * aspect_ratio)\n",
        "\n",
        "img_resized = img_gray.resize((new_width, new_height))\n",
        "img_array = np.array(img_resized)\n",
        "\n",
        "# Step 5: Interactive function for contrast and brightness adjustment\n",
        "def adjust_image(clip_limit, grid_size):\n",
        "    # Enhance contrast with CLAHE (Contrast Limited Adaptive Histogram Equalization)\n",
        "    clahe = cv2.createCLAHE(clipLimit=clip_limit, tileGridSize=(grid_size, grid_size))\n",
        "    img_clahe = clahe.apply(img_array)\n",
        "\n",
        "    # Display enhanced image\n",
        "    fig, ax = plt.subplots(1, 2, figsize=(10, 5), gridspec_kw={'width_ratios': [1, 1]})\n",
        "\n",
        "    ax[0].imshow(img_array, cmap='gray')\n",
        "    ax[0].set_title('Original Image')\n",
        "    ax[0].axis('off')\n",
        "\n",
        "    ax[1].imshow(img_clahe, cmap='gray')\n",
        "    ax[1].set_title('Enhanced Image')\n",
        "    ax[1].axis('off')\n",
        "\n",
        "    plt.show()\n",
        "\n",
        "# Step 6: Create interactive widgets\n",
        "interact(adjust_image,\n",
        "         clip_limit=widgets.FloatSlider(value=2.0, min=1.0, max=10.0, step=0.1, description='Clip Limit'),\n",
        "         grid_size=widgets.IntSlider(value=8, min=1, max=16, step=1, description='Grid Size'));"
      ]
    }
  ]
}