{
  "nbformat": 4,
  "nbformat_minor": 0,
  "metadata": {
    "colab": {
      "private_outputs": true,
      "provenance": [],
      "authorship_tag": "ABX9TyPbZeBDoBWV33uTtGdJ6w56",
      "include_colab_link": true
    },
    "kernelspec": {
      "name": "python3",
      "display_name": "Python 3"
    },
    "language_info": {
      "name": "python"
    }
  },
  "cells": [
    {
      "cell_type": "markdown",
      "metadata": {
        "id": "view-in-github",
        "colab_type": "text"
      },
      "source": [
        "<a href=\"https://colab.research.google.com/github/hsandaver/hsandaver/blob/main/ConservationPreprocessorV3_1.ipynb\" target=\"_parent\"><img src=\"https://colab.research.google.com/assets/colab-badge.svg\" alt=\"Open In Colab\"/></a>"
      ]
    },
    {
      "cell_type": "code",
      "execution_count": null,
      "metadata": {
        "id": "vlhGkLAUKomV"
      },
      "outputs": [],
      "source": [
        "# Install necessary libraries\n",
        "#!pip install opencv-python-headless pillow ipywidgets matplotlib requests\n",
        "\n",
        "# Import required libraries\n",
        "from PIL import Image\n",
        "import cv2\n",
        "import numpy as np\n",
        "import matplotlib.pyplot as plt\n",
        "from ipywidgets import interact, widgets\n",
        "import requests\n",
        "from io import BytesIO\n",
        "\n",
        "# Step 1: Fetch image from IIIF server\n",
        "# Replace this URL with the IIIF image URL you want to use\n",
        "iiif_url = 'https://divinity.contentdm.oclc.org/iiif/2/p20081coll4:203/full/full/0/default.jpg'  # Example format, change to the actual IIIF image URL\n",
        "\n",
        "# Fetch the image using the requests library\n",
        "response = requests.get(iiif_url)\n",
        "img = Image.open(BytesIO(response.content))\n",
        "\n",
        "# Step 2: Convert image to grayscale\n",
        "img_gray = img.convert('L')\n",
        "\n",
        "# Step 3: Resize image while maintaining aspect ratio\n",
        "max_size = 800\n",
        "img_width, img_height = img_gray.size\n",
        "aspect_ratio = img_width / img_height\n",
        "\n",
        "if img_width > img_height:\n",
        "    new_width = max_size\n",
        "    new_height = int(max_size / aspect_ratio)\n",
        "else:\n",
        "    new_height = max_size\n",
        "    new_width = int(max_size * aspect_ratio)\n",
        "\n",
        "img_resized = img_gray.resize((new_width, new_height))\n",
        "img_array = np.array(img_resized)\n",
        "\n",
        "# Step 4: Interactive function for contrast, brightness, and edge detection adjustment\n",
        "def adjust_image(clip_limit, grid_size, threshold1, threshold2):\n",
        "    # Enhance contrast with CLAHE (Contrast Limited Adaptive Histogram Equalization)\n",
        "    clahe = cv2.createCLAHE(clipLimit=clip_limit, tileGridSize=(grid_size, grid_size))\n",
        "    img_clahe = clahe.apply(img_array)\n",
        "\n",
        "    # Perform edge detection using Canny algorithm\n",
        "    edges = cv2.Canny(img_clahe, threshold1, threshold2)\n",
        "\n",
        "    # Display the original, enhanced, and edge-detected images side by side\n",
        "    fig, ax = plt.subplots(1, 3, figsize=(30, 10), gridspec_kw={'width_ratios': [1, 1, 1]})  # Increased figsize for larger output\n",
        "\n",
        "    ax[0].imshow(img_array, cmap='gray')\n",
        "    ax[0].set_title('Original Image')\n",
        "    ax[0].axis('off')\n",
        "\n",
        "    ax[1].imshow(img_clahe, cmap='gray')\n",
        "    ax[1].set_title('Enhanced Image')\n",
        "    ax[1].axis('off')\n",
        "\n",
        "    ax[2].imshow(edges, cmap='gray')\n",
        "    ax[2].set_title('Edge Detection')\n",
        "    ax[2].axis('off')\n",
        "\n",
        "    plt.show()\n",
        "\n",
        "# Step 5: Create interactive widgets for CLAHE and edge detection\n",
        "interact(adjust_image,\n",
        "         clip_limit=widgets.FloatSlider(value=2.0, min=1.0, max=10.0, step=0.1, description='Clip Limit'),\n",
        "         grid_size=widgets.IntSlider(value=8, min=1, max=16, step=1, description='Grid Size'),\n",
        "         threshold1=widgets.IntSlider(value=100, min=0, max=300, step=1, description='Canny Threshold 1'),\n",
        "         threshold2=widgets.IntSlider(value=200, min=0, max=300, step=1, description='Canny Threshold 2'));"
      ]
    }
  ]
}