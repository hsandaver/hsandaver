{
  "nbformat": 4,
  "nbformat_minor": 0,
  "metadata": {
    "colab": {
      "private_outputs": true,
      "provenance": [],
      "authorship_tag": "ABX9TyM6KMKxW+qRW2EWqrpca7EC",
      "include_colab_link": true
    },
    "kernelspec": {
      "name": "python3",
      "display_name": "Python 3"
    },
    "language_info": {
      "name": "python"
    }
  },
  "cells": [
    {
      "cell_type": "markdown",
      "metadata": {
        "id": "view-in-github",
        "colab_type": "text"
      },
      "source": [
        "<a href=\"https://colab.research.google.com/github/hsandaver/hsandaver/blob/main/ISCC_NBS_LAB_COLORS.ipynb\" target=\"_parent\"><img src=\"https://colab.research.google.com/assets/colab-badge.svg\" alt=\"Open In Colab\"/></a>"
      ]
    },
    {
      "cell_type": "code",
      "execution_count": null,
      "metadata": {
        "id": "tT5dIUx2BTSU"
      },
      "outputs": [],
      "source": [
        "import pandas as pd\n",
        "from math import sqrt\n",
        "\n",
        "# Define a function to calculate Delta-E between two LAB colors\n",
        "def delta_e(lab1, lab2):\n",
        "    return sqrt((lab1[0] - lab2[0]) ** 2 + (lab1[1] - lab2[1]) ** 2 + (lab1[2] - lab2[2]) ** 2)\n",
        "\n",
        "# Load ISCC-NBS dataset with LAB values (assuming a CSV file)\n",
        "# The CSV should have columns: 'Color Name', 'L', 'A', 'B'\n",
        "iscc_nbs_df = pd.read_csv('iscc_nbs_lab_colors.csv')\n",
        "\n",
        "# Function to predict the closest ISCC-NBS color for an input LAB color\n",
        "def find_closest_iscc_nbs_color(input_lab):\n",
        "    closest_color = None\n",
        "    min_delta_e = float('inf')\n",
        "\n",
        "    # Iterate through the dataset to find the color with the smallest Delta-E\n",
        "    for index, row in iscc_nbs_df.iterrows():\n",
        "        lab_color = (row['L'], row['A'], row['B'])\n",
        "        delta_e_value = delta_e(input_lab, lab_color)\n",
        "\n",
        "        if delta_e_value < min_delta_e:\n",
        "            min_delta_e = delta_e_value\n",
        "            closest_color = row['Color Name']\n",
        "\n",
        "    return closest_color, min_delta_e\n",
        "\n",
        "# Example usage: Input LAB color\n",
        "input_lab_color = [50, 0, 0]  # Example LAB input\n",
        "closest_color, delta_e_value = find_closest_iscc_nbs_color(input_lab_color)\n",
        "\n",
        "print(f\"Closest ISCC-NBS color: {closest_color} with Delta-E: {delta_e_value}\")"
      ]
    }
  ]
}